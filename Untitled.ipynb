{
 "cells": [
  {
   "cell_type": "code",
   "execution_count": 63,
   "id": "bc7cd543-e8db-4503-8426-e3e449be3e31",
   "metadata": {},
   "outputs": [
    {
     "data": {
      "text/plain": [
       "{'Londra 🇬🇧': 1,\n",
       " 'Berlino 🇩🇪': 17,\n",
       " 'Vienna 🇦🇹': 27,\n",
       " 'Svizzera 🇨🇭': 28,\n",
       " 'Amsterdam 🇳🇱': 27}"
      ]
     },
     "execution_count": 63,
     "metadata": {},
     "output_type": "execute_result"
    }
   ],
   "source": [
    "import pandas as pd\n",
    "\n",
    "# Prendi la matrice delle preferenze\n",
    "df = pd.read_excel(r'CimiteroNYE.xlsx')\n",
    "raw_answers = df[:][\"Où la facim sta cosa?\\n\"]\n",
    "parsed_answers = [a.split(\";\")[:-1] for a in raw_answers]\n",
    "\n",
    "# Assegna un punteggio a tutte le destinazioni in questo modo:\n",
    "# - ogni riga di `parsed_answers` è in ordine decrescente di preferenza\n",
    "# - per ogni persona, assegna 4 alla prima scelta, 3 alla seconda, e così via\n",
    "# - somma i punteggi di ogni destinazione\n",
    "ranking = {}\n",
    "for single_person_answer in parsed_answers:\n",
    "    for points, pref in enumerate(reversed(single_person_answer)):\n",
    "        ranking[pref] = ranking.get(pref, 0) + points\n",
    "\n",
    "ranking"
   ]
  },
  {
   "cell_type": "code",
   "execution_count": 65,
   "id": "f8c38606-720a-4bbd-9e4e-7d163afab485",
   "metadata": {},
   "outputs": [
    {
     "data": {
      "image/png": "[encoded data removed]",
      "text/plain": [
       "<Figure size 800x550 with 1 Axes>"
      ]
     },
     "metadata": {},
     "output_type": "display_data"
    }
   ],
   "source": [
    "import matplotlib.pyplot as plt\n",
    "\n",
    "places = list(map(lambda x: x[:-2], ranking.keys())) # Togli la bandiera alla fine\n",
    "plt.bar(places, ranking.values())\n",
    "plt.show()"
   ]
  }
 ],
 "metadata": {
  "kernelspec": {
   "display_name": "Python 3 (ipykernel)",
   "language": "python",
   "name": "python3"
  },
  "language_info": {
   "codemirror_mode": {
    "name": "ipython",
    "version": 3
   },
   "file_extension": ".py",
   "mimetype": "text/x-python",
   "name": "python",
   "nbconvert_exporter": "python",
   "pygments_lexer": "ipython3",
   "version": "3.10.7"
  }
 },
 "nbformat": 4,
 "nbformat_minor": 5
}
